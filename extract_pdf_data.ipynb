{
 "cells": [
  {
   "cell_type": "code",
   "execution_count": 1,
   "metadata": {},
   "outputs": [],
   "source": [
    "from pdfquery import PDFQuery\n",
    "import pandas as pd\n",
    "import os\n",
    "import json"
   ]
  },
  {
   "cell_type": "markdown",
   "metadata": {},
   "source": [
    "## Extract Data From PDF"
   ]
  },
  {
   "cell_type": "code",
   "execution_count": 2,
   "metadata": {},
   "outputs": [
    {
     "data": {
      "text/html": [
       "<div>\n",
       "<style scoped>\n",
       "    .dataframe tbody tr th:only-of-type {\n",
       "        vertical-align: middle;\n",
       "    }\n",
       "\n",
       "    .dataframe tbody tr th {\n",
       "        vertical-align: top;\n",
       "    }\n",
       "\n",
       "    .dataframe thead th {\n",
       "        text-align: right;\n",
       "    }\n",
       "</style>\n",
       "<table border=\"1\" class=\"dataframe\">\n",
       "  <thead>\n",
       "    <tr style=\"text-align: right;\">\n",
       "      <th></th>\n",
       "    </tr>\n",
       "  </thead>\n",
       "  <tbody>\n",
       "  </tbody>\n",
       "</table>\n",
       "</div>"
      ],
      "text/plain": [
       "Empty DataFrame\n",
       "Columns: []\n",
       "Index: []"
      ]
     },
     "execution_count": 2,
     "metadata": {},
     "output_type": "execute_result"
    }
   ],
   "source": [
    "df = pd.DataFrame()\n",
    "df"
   ]
  },
  {
   "cell_type": "code",
   "execution_count": 3,
   "metadata": {},
   "outputs": [
    {
     "data": {
      "text/plain": [
       "[{'AmountValue': 15140.25,\n",
       "  'AmountSymbol': None,\n",
       "  'Date': None,\n",
       "  'Description': 'ทาโร เข้มข้น 50g 50 บ',\n",
       "  'Quantity': 15,\n",
       "  'ProductCode': '1025005',\n",
       "  'Unit': None,\n",
       "  'UnitPrice': None},\n",
       " {'AmountValue': 1816.83,\n",
       "  'AmountSymbol': None,\n",
       "  'Date': None,\n",
       "  'Description': 'ทาโร ไลท์รสออริจินัล 20g 20 บ. แพ็ค6',\n",
       "  'Quantity': 3,\n",
       "  'ProductCode': '1602003',\n",
       "  'Unit': None,\n",
       "  'UnitPrice': 19},\n",
       " {'AmountValue': 4239.27,\n",
       "  'AmountSymbol': None,\n",
       "  'Date': None,\n",
       "  'Description': 'ทาโร เข้มขึ้น 309 30 บ.',\n",
       "  'Quantity': 7,\n",
       "  'ProductCode': '1023009',\n",
       "  'Unit': None,\n",
       "  'UnitPrice': 673},\n",
       " {'AmountValue': 1211.22,\n",
       "  'AmountSymbol': None,\n",
       "  'Date': None,\n",
       "  'Description': 'ทาโร สาหร่ายเกาหลี 20g 20 บ. แพ็ค6',\n",
       "  'Quantity': 2,\n",
       "  'ProductCode': '1172016',\n",
       "  'Unit': None,\n",
       "  'UnitPrice': 346},\n",
       " {'AmountValue': 211.22,\n",
       "  'AmountSymbol': None,\n",
       "  'Date': None,\n",
       "  'Description': 'ทาโรอบกรอบ เข้มข้น 180 20 บ. ใหม่ แผล.3\\nทาโรอบกรอบ บาร์บีคิว 189-20 บ. ใหม่ แผด.3',\n",
       "  'Quantity': None,\n",
       "  'ProductCode': '4062007',\n",
       "  'Unit': None,\n",
       "  'UnitPrice': None},\n",
       " {'AmountValue': 605.61,\n",
       "  'AmountSymbol': None,\n",
       "  'Date': None,\n",
       "  'Description': 'ทาโร บาร์บีคิว 30g 30 บ',\n",
       "  'Quantity': 1,\n",
       "  'ProductCode': '1033009',\n",
       "  'Unit': None,\n",
       "  'UnitPrice': None},\n",
       " {'AmountValue': None,\n",
       "  'AmountSymbol': None,\n",
       "  'Date': None,\n",
       "  'Description': 'ตาโซ เข้มข้น 50g 50 บ',\n",
       "  'Quantity': 15,\n",
       "  'ProductCode': '1025005',\n",
       "  'Unit': None,\n",
       "  'UnitPrice': None},\n",
       " {'AmountValue': None,\n",
       "  'AmountSymbol': None,\n",
       "  'Date': None,\n",
       "  'Description': 'ทาโร บาร์บีคิว 50g 50 น',\n",
       "  'Quantity': 1,\n",
       "  'ProductCode': '1035005',\n",
       "  'Unit': None,\n",
       "  'UnitPrice': None},\n",
       " {'AmountValue': None,\n",
       "  'AmountSymbol': None,\n",
       "  'Date': None,\n",
       "  'Description': 'ทาโร ซูเปอร์แซบ 50g 50 บ',\n",
       "  'Quantity': 7,\n",
       "  'ProductCode': '1055003',\n",
       "  'Unit': None,\n",
       "  'UnitPrice': None}]"
      ]
     },
     "execution_count": 3,
     "metadata": {},
     "output_type": "execute_result"
    }
   ],
   "source": [
    "with open('jsonData/BZB_24060691.json', encoding=\"utf8\") as f:\n",
    "    test = json.load(f)\n",
    "\n",
    "test['Data']['ResultOcr'][0]['Items']"
   ]
  },
  {
   "cell_type": "code",
   "execution_count": 40,
   "metadata": {},
   "outputs": [],
   "source": [
    "with open(\"jsonData/\" + 'page1.json', encoding='utf-8') as f:\n",
    "        json_file = json.load(f)\n",
    "        data = json_file['Data']['ResultOcr'][0]['Items']"
   ]
  },
  {
   "cell_type": "code",
   "execution_count": 49,
   "metadata": {},
   "outputs": [
    {
     "data": {
      "text/plain": [
       "{'AmountValue': 12.5,\n",
       " 'AmountSymbol': None,\n",
       " 'Date': None,\n",
       " 'Description': 'วิกซอล โกลด์ 900 (2+1)',\n",
       " 'Quantity': 1,\n",
       " 'ProductCode': '1101155228',\n",
       " 'Unit': None,\n",
       " 'UnitPrice': 12}"
      ]
     },
     "execution_count": 49,
     "metadata": {},
     "output_type": "execute_result"
    }
   ],
   "source": [
    "data[0]"
   ]
  },
  {
   "cell_type": "code",
   "execution_count": 50,
   "metadata": {},
   "outputs": [
    {
     "data": {
      "text/plain": [
       "'1101155228'"
      ]
     },
     "execution_count": 50,
     "metadata": {},
     "output_type": "execute_result"
    }
   ],
   "source": [
    "data[0]['ProductCode']"
   ]
  },
  {
   "cell_type": "code",
   "execution_count": 51,
   "metadata": {},
   "outputs": [
    {
     "name": "stdout",
     "output_type": "stream",
     "text": [
      "{'ProductCode': '1315033715', 'ProductName': 'ไขยืน-ปรับผ้านุ่ม ชมพู 2800', 'Qty': 12.2, 'Pack': 1, 'Weight': 12.2}\n"
     ]
    }
   ],
   "source": [
    "for index in range(0,len(data) - 1):\n",
    "    dict = {}\n",
    "    dict['ProductCode'] = data[index]['ProductCode']\n",
    "    dict['ProductName'] = data[index]['Description']\n",
    "    dict['Qty'] = data[index]['UnitPrice']\n",
    "    dict['Pack'] = data[index]['Quantity']\n",
    "    dict['Weight'] = data[index]['AmountValue']\n",
    "\n",
    "print(dict)"
   ]
  },
  {
   "cell_type": "code",
   "execution_count": 6,
   "metadata": {},
   "outputs": [],
   "source": [
    "def create_df(df, data):\n",
    "    for index in range(0,len(data) - 1):\n",
    "        dict = {}\n",
    "        dict['ProductCode'] = data[index]['ProductCode']\n",
    "        dict['ProductName'] = data[index]['Description']\n",
    "        dict['Qty'] = data[index]['Quantity']\n",
    "        #dict['Pack'] = data[index]['Quantity']\n",
    "        #dict['Weight'] = data[index]['AmountValue']\n",
    "        df = pd.concat([df, pd.DataFrame(dict, index=[index])], ignore_index=True)\n",
    "    return df"
   ]
  },
  {
   "cell_type": "code",
   "execution_count": 5,
   "metadata": {},
   "outputs": [
    {
     "data": {
      "text/plain": [
       "['BZB_24060691.json']"
      ]
     },
     "execution_count": 5,
     "metadata": {},
     "output_type": "execute_result"
    }
   ],
   "source": [
    "file_ls = []\n",
    "for file_name in os.listdir(\"jsonData\"):\n",
    "    file_ls.append(file_name)\n",
    "\n",
    "file_ls = ['BZB_24060691.json']\n",
    "file_ls"
   ]
  },
  {
   "cell_type": "code",
   "execution_count": 7,
   "metadata": {},
   "outputs": [
    {
     "data": {
      "text/html": [
       "<div>\n",
       "<style scoped>\n",
       "    .dataframe tbody tr th:only-of-type {\n",
       "        vertical-align: middle;\n",
       "    }\n",
       "\n",
       "    .dataframe tbody tr th {\n",
       "        vertical-align: top;\n",
       "    }\n",
       "\n",
       "    .dataframe thead th {\n",
       "        text-align: right;\n",
       "    }\n",
       "</style>\n",
       "<table border=\"1\" class=\"dataframe\">\n",
       "  <thead>\n",
       "    <tr style=\"text-align: right;\">\n",
       "      <th></th>\n",
       "      <th>ProductCode</th>\n",
       "      <th>ProductName</th>\n",
       "      <th>Qty</th>\n",
       "    </tr>\n",
       "  </thead>\n",
       "  <tbody>\n",
       "    <tr>\n",
       "      <th>0</th>\n",
       "      <td>1025005</td>\n",
       "      <td>ทาโร เข้มข้น 50g 50 บ</td>\n",
       "      <td>15</td>\n",
       "    </tr>\n",
       "    <tr>\n",
       "      <th>1</th>\n",
       "      <td>1602003</td>\n",
       "      <td>ทาโร ไลท์รสออริจินัล 20g 20 บ. แพ็ค6</td>\n",
       "      <td>3</td>\n",
       "    </tr>\n",
       "    <tr>\n",
       "      <th>2</th>\n",
       "      <td>1023009</td>\n",
       "      <td>ทาโร เข้มขึ้น 309 30 บ.</td>\n",
       "      <td>7</td>\n",
       "    </tr>\n",
       "    <tr>\n",
       "      <th>3</th>\n",
       "      <td>1172016</td>\n",
       "      <td>ทาโร สาหร่ายเกาหลี 20g 20 บ. แพ็ค6</td>\n",
       "      <td>2</td>\n",
       "    </tr>\n",
       "    <tr>\n",
       "      <th>4</th>\n",
       "      <td>4062007</td>\n",
       "      <td>ทาโรอบกรอบ เข้มข้น 180 20 บ. ใหม่ แผล.3\\nทาโรอ...</td>\n",
       "      <td>None</td>\n",
       "    </tr>\n",
       "    <tr>\n",
       "      <th>5</th>\n",
       "      <td>1033009</td>\n",
       "      <td>ทาโร บาร์บีคิว 30g 30 บ</td>\n",
       "      <td>1</td>\n",
       "    </tr>\n",
       "    <tr>\n",
       "      <th>6</th>\n",
       "      <td>1025005</td>\n",
       "      <td>ตาโซ เข้มข้น 50g 50 บ</td>\n",
       "      <td>15</td>\n",
       "    </tr>\n",
       "    <tr>\n",
       "      <th>7</th>\n",
       "      <td>1035005</td>\n",
       "      <td>ทาโร บาร์บีคิว 50g 50 น</td>\n",
       "      <td>1</td>\n",
       "    </tr>\n",
       "  </tbody>\n",
       "</table>\n",
       "</div>"
      ],
      "text/plain": [
       "  ProductCode                                        ProductName   Qty\n",
       "0     1025005                              ทาโร เข้มข้น 50g 50 บ    15\n",
       "1     1602003               ทาโร ไลท์รสออริจินัล 20g 20 บ. แพ็ค6     3\n",
       "2     1023009                            ทาโร เข้มขึ้น 309 30 บ.     7\n",
       "3     1172016                 ทาโร สาหร่ายเกาหลี 20g 20 บ. แพ็ค6     2\n",
       "4     4062007  ทาโรอบกรอบ เข้มข้น 180 20 บ. ใหม่ แผล.3\\nทาโรอ...  None\n",
       "5     1033009                            ทาโร บาร์บีคิว 30g 30 บ     1\n",
       "6     1025005                              ตาโซ เข้มข้น 50g 50 บ    15\n",
       "7     1035005                            ทาโร บาร์บีคิว 50g 50 น     1"
      ]
     },
     "execution_count": 7,
     "metadata": {},
     "output_type": "execute_result"
    }
   ],
   "source": [
    "for file_name in file_ls:\n",
    "    with open(\"jsonData/\" + file_name, encoding='utf-8') as f:\n",
    "        json_file = json.load(f)\n",
    "        data = json_file['Data']['ResultOcr'][0]['Items']\n",
    "        df = create_df(df, data)\n",
    "\n",
    "df\n"
   ]
  },
  {
   "cell_type": "code",
   "execution_count": 8,
   "metadata": {},
   "outputs": [],
   "source": [
    "df.to_excel(\"input/vendor_data2.xlsx\",index=False)"
   ]
  },
  {
   "cell_type": "code",
   "execution_count": 56,
   "metadata": {},
   "outputs": [
    {
     "data": {
      "text/html": [
       "<div>\n",
       "<style scoped>\n",
       "    .dataframe tbody tr th:only-of-type {\n",
       "        vertical-align: middle;\n",
       "    }\n",
       "\n",
       "    .dataframe tbody tr th {\n",
       "        vertical-align: top;\n",
       "    }\n",
       "\n",
       "    .dataframe thead th {\n",
       "        text-align: right;\n",
       "    }\n",
       "</style>\n",
       "<table border=\"1\" class=\"dataframe\">\n",
       "  <thead>\n",
       "    <tr style=\"text-align: right;\">\n",
       "      <th></th>\n",
       "    </tr>\n",
       "  </thead>\n",
       "  <tbody>\n",
       "  </tbody>\n",
       "</table>\n",
       "</div>"
      ],
      "text/plain": [
       "Empty DataFrame\n",
       "Columns: []\n",
       "Index: []"
      ]
     },
     "execution_count": 56,
     "metadata": {},
     "output_type": "execute_result"
    }
   ],
   "source": [
    "df"
   ]
  }
 ],
 "metadata": {
  "kernelspec": {
   "display_name": "Python 3",
   "language": "python",
   "name": "python3"
  },
  "language_info": {
   "codemirror_mode": {
    "name": "ipython",
    "version": 3
   },
   "file_extension": ".py",
   "mimetype": "text/x-python",
   "name": "python",
   "nbconvert_exporter": "python",
   "pygments_lexer": "ipython3",
   "version": "3.11.5"
  }
 },
 "nbformat": 4,
 "nbformat_minor": 2
}
