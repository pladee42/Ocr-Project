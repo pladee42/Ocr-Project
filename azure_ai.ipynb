{
 "cells": [
  {
   "cell_type": "code",
   "execution_count": 38,
   "metadata": {},
   "outputs": [],
   "source": [
    "from openai import AzureOpenAI  \n",
    "import os\n",
    "import time\n",
    "import json\n",
    "import requests"
   ]
  },
  {
   "cell_type": "code",
   "execution_count": 39,
   "metadata": {},
   "outputs": [],
   "source": [
    "azure_endpoint = os.getenv('AZURE_OPENAI_ENDPOINT')\n",
    "api_key = os.getenv('AZURE_OPENAI_API_KEY')\n",
    "api_version = os.getenv('API_VERSION')\n",
    "assistant_id = os.getenv('ASSISTANT_ID')\n",
    "thread_id = \"thread_RNZHIaLE6i61NTMwm8Ni3frS\""
   ]
  },
  {
   "cell_type": "code",
   "execution_count": 46,
   "metadata": {},
   "outputs": [],
   "source": [
    "#APIs\n",
    "message_api = azure_endpoint + \"openai/threads/\" + thread_id + \"/messages\"\n",
    "run_api = azure_endpoint + \"openai/threads/\" + thread_id + \"/runs\"\n",
    "\n",
    "params = {\n",
    "    \"api-version\": \"2024-05-01-preview\"\n",
    "}\n",
    "\n",
    "headers = {\n",
    "    \"api-key\" : api_key\n",
    "}"
   ]
  },
  {
   "cell_type": "code",
   "execution_count": 44,
   "metadata": {},
   "outputs": [
    {
     "name": "stdout",
     "output_type": "stream",
     "text": [
      "Data retrieved successfully!\n",
      "{'object': 'list', 'data': [{'id': 'msg_C7eFLcwxQt3gOLt4XeynWbBD', 'object': 'thread.message', 'created_at': 1723024978, 'assistant_id': 'asst_2WQtVZDV51FTNgj2jmtKpZx9', 'thread_id': 'thread_RNZHIaLE6i61NTMwm8Ni3frS', 'run_id': 'run_XYTtWs2bHAJnx2aTEnYZ9yBT', 'role': 'assistant', 'content': [{'type': 'text', 'text': {'value': 'Here are the promotional words that I have stored in my long-term memory:\\n\\n1. `(n+n)`:\\n   - This represents a promotion where if you buy `n` items, you get `n` additional items for free. Example: `(2+1)` means \"ซื้อ 2 แถม 1\".\\n\\n2. `ns` or `Nชิ้น`:\\n   - This indicates a multipack or a bundle containing `N` items. Example: `3s` means \"3 ชิ้น\".\\n\\nIf you have any specific promotional words you\\'d like to add or update, feel free to let me know!', 'annotations': []}}], 'attachments': [], 'metadata': {}}, {'id': 'msg_n5es0RzPDYpPVujqkj0som83', 'object': 'thread.message', 'created_at': 1723024587, 'assistant_id': None, 'thread_id': 'thread_RNZHIaLE6i61NTMwm8Ni3frS', 'run_id': None, 'role': 'user', 'content': [{'type': 'text', 'text': {'value': 'Show me the list of promotional words.', 'annotations': []}}], 'attachments': [], 'metadata': {}}, {'id': 'msg_6qGHu1vGlLtH6sweypad2xEj', 'object': 'thread.message', 'created_at': 1723024519, 'assistant_id': 'asst_2WQtVZDV51FTNgj2jmtKpZx9', 'thread_id': 'thread_RNZHIaLE6i61NTMwm8Ni3frS', 'run_id': 'run_1NJhsIbeGozEPrqtSGZtEOOb', 'role': 'assistant', 'content': [{'type': 'text', 'text': {'value': 'Here are some common promotional words and phrases that I have stored in my long-term memory for detecting promotions within Thai product names:\\n\\n1. (n+n):\\n   - This implies a promotion where if you buy `n` items, you get `n` additional items for free. For example, (2+1) means \"ซื้อ 2 แถม 1\".\\n  \\n2. ns or Nชิ้น:\\n   - This typically indicates a multipack or a bundle containing `N` items. For example, 3s means \"3 ชิ้น\".\\n\\nIf you have any additional promotional words that you would like to include for detection or any updates to the existing list, please let me know!', 'annotations': []}}], 'attachments': [], 'metadata': {}}, {'id': 'msg_TGGNRSjzJwm8AOy4J8PI7KBw', 'object': 'thread.message', 'created_at': 1723024517, 'assistant_id': None, 'thread_id': 'thread_RNZHIaLE6i61NTMwm8Ni3frS', 'run_id': None, 'role': 'user', 'content': [{'type': 'text', 'text': {'value': 'Give me the list of promotional word.', 'annotations': []}}], 'attachments': [], 'metadata': {}}], 'first_id': 'msg_C7eFLcwxQt3gOLt4XeynWbBD', 'last_id': 'msg_TGGNRSjzJwm8AOy4J8PI7KBw', 'has_more': False}\n"
     ]
    }
   ],
   "source": [
    "response = requests.get(message_api, params=params, headers=headers)\n",
    "# Check if the request was successful\n",
    "if response.status_code == 200:\n",
    "    # Parse the JSON response (assuming the API returns JSON data)\n",
    "    data = response.json()\n",
    "    print(\"Data retrieved successfully!\")\n",
    "    print(data)\n",
    "else:\n",
    "    # If the request failed, print the status code and the response text\n",
    "    print(f\"Request failed with status code {response.status_code}\")\n",
    "    print(response.text)\n"
   ]
  },
  {
   "cell_type": "code",
   "execution_count": null,
   "metadata": {},
   "outputs": [],
   "source": [
    "def update_promotional_word(word : str, replace : str, params=params, headers=headers):\n",
    "    \n",
    "    body = {\n",
    "        \"role\": \"user\",\n",
    "        \"content\": \"Give me the list of promotional words in the JSON format like below:\\n{\\\"n+n\\\": \\\"ซื้อ n แถม n\\\"}\"\n",
    "        }\n",
    "    \n",
    "    response = requests.post(message_api, \n",
    "                             params=params, \n",
    "                             headers=headers,\n",
    "                            json=)\n",
    "    # Check if the request was successful\n",
    "    if response.status_code == 200:\n",
    "        # Parse the JSON response (assuming the API returns JSON data)\n",
    "        data = response.json()\n",
    "        print(\"Data retrieved successfully!\")\n",
    "        print(data)\n",
    "    else:\n",
    "        # If the request failed, print the status code and the response text\n",
    "        print(f\"Request failed with status code {response.status_code}\")\n",
    "        print(response.text)"
   ]
  },
  {
   "cell_type": "markdown",
   "metadata": {},
   "source": []
  }
 ],
 "metadata": {
  "kernelspec": {
   "display_name": "Python 3",
   "language": "python",
   "name": "python3"
  },
  "language_info": {
   "codemirror_mode": {
    "name": "ipython",
    "version": 3
   },
   "file_extension": ".py",
   "mimetype": "text/x-python",
   "name": "python",
   "nbconvert_exporter": "python",
   "pygments_lexer": "ipython3",
   "version": "3.11.5"
  }
 },
 "nbformat": 4,
 "nbformat_minor": 2
}
