{
 "cells": [
  {
   "cell_type": "code",
   "execution_count": 1,
   "metadata": {},
   "outputs": [],
   "source": [
    "import pythainlp\n",
    "from pythainlp import sent_tokenize, word_tokenize\n",
    "from pythainlp import word_tokenize, Tokenizer\n",
    "from pythainlp.util.trie import Trie, dict_trie\n",
    "from pythainlp.corpus.common import thai_words\n",
    "from pythainlp.util import normalize\n",
    "from pythainlp.corpus import thai_stopwords\n",
    "from pythainlp.tokenize import word_tokenize\n",
    "import pandas as pd\n",
    "import json"
   ]
  },
  {
   "cell_type": "code",
   "execution_count": 2,
   "metadata": {},
   "outputs": [],
   "source": [
    "with open(\"custom_words.json\", encoding='utf-8') as w:\n",
    "    MY_CUSTOM_WORDS = json.load(w)"
   ]
  },
  {
   "cell_type": "code",
   "execution_count": 3,
   "metadata": {},
   "outputs": [
    {
     "data": {
      "text/html": [
       "<div>\n",
       "<style scoped>\n",
       "    .dataframe tbody tr th:only-of-type {\n",
       "        vertical-align: middle;\n",
       "    }\n",
       "\n",
       "    .dataframe tbody tr th {\n",
       "        vertical-align: top;\n",
       "    }\n",
       "\n",
       "    .dataframe thead th {\n",
       "        text-align: right;\n",
       "    }\n",
       "</style>\n",
       "<table border=\"1\" class=\"dataframe\">\n",
       "  <thead>\n",
       "    <tr style=\"text-align: right;\">\n",
       "      <th></th>\n",
       "      <th>ProductCode</th>\n",
       "      <th>ProductName</th>\n",
       "      <th>Qty</th>\n",
       "      <th>Pack</th>\n",
       "      <th>Weight</th>\n",
       "    </tr>\n",
       "  </thead>\n",
       "  <tbody>\n",
       "    <tr>\n",
       "      <th>0</th>\n",
       "      <td>1101155228</td>\n",
       "      <td>วิกซอล โกลด์ 900 (2+1)</td>\n",
       "      <td>12</td>\n",
       "      <td>1</td>\n",
       "      <td>12.5</td>\n",
       "    </tr>\n",
       "    <tr>\n",
       "      <th>1</th>\n",
       "      <td>1102043121</td>\n",
       "      <td>วิกซอล ออกซี่ มิ้นท์ 700 มล. 3S</td>\n",
       "      <td>12</td>\n",
       "      <td>1</td>\n",
       "      <td>9.8</td>\n",
       "    </tr>\n",
       "    <tr>\n",
       "      <th>2</th>\n",
       "      <td>1201033318</td>\n",
       "      <td>วิช-ถูพื้น ทรีดี ชมพู 650 ซอง</td>\n",
       "      <td>12</td>\n",
       "      <td>1</td>\n",
       "      <td>8.5</td>\n",
       "    </tr>\n",
       "    <tr>\n",
       "      <th>3</th>\n",
       "      <td>1201053312</td>\n",
       "      <td>วิช-ถูพื้น ทรีดี ฟ้า 650 ซอง</td>\n",
       "      <td>12</td>\n",
       "      <td>1</td>\n",
       "      <td>8.5</td>\n",
       "    </tr>\n",
       "    <tr>\n",
       "      <th>4</th>\n",
       "      <td>1201133155</td>\n",
       "      <td>วิช-ถูพื้น เนเจอร์ ชมพู 5200</td>\n",
       "      <td>4</td>\n",
       "      <td>1</td>\n",
       "      <td>21.9</td>\n",
       "    </tr>\n",
       "  </tbody>\n",
       "</table>\n",
       "</div>"
      ],
      "text/plain": [
       "   ProductCode                      ProductName  Qty  Pack  Weight\n",
       "0   1101155228           วิกซอล โกลด์ 900 (2+1)   12     1    12.5\n",
       "1   1102043121  วิกซอล ออกซี่ มิ้นท์ 700 มล. 3S   12     1     9.8\n",
       "2   1201033318    วิช-ถูพื้น ทรีดี ชมพู 650 ซอง   12     1     8.5\n",
       "3   1201053312     วิช-ถูพื้น ทรีดี ฟ้า 650 ซอง   12     1     8.5\n",
       "4   1201133155     วิช-ถูพื้น เนเจอร์ ชมพู 5200    4     1    21.9"
      ]
     },
     "execution_count": 3,
     "metadata": {},
     "output_type": "execute_result"
    }
   ],
   "source": [
    "df = pd.read_excel('input/vendor_data.xlsx')\n",
    "df.head()"
   ]
  },
  {
   "cell_type": "code",
   "execution_count": 4,
   "metadata": {},
   "outputs": [
    {
     "name": "stdout",
     "output_type": "stream",
     "text": [
      "sent_tokenize: ['ไฮยีนปรับเข้มข้นไลฟ์ มิราเคิลโรสโกล115']\n",
      "word_tokenize: ['ไฮ', 'ยีน', 'ปรับ', 'เข้มข้น', 'ไลฟ์', ' ', 'มิราเคิล', 'โร', 'ส', 'โก', 'ล', '115']\n",
      "no whitespace: ['ไฮ', 'ยีน', 'ปรับ', 'เข้มข้น', 'ไลฟ์', 'มิราเคิล', 'โร', 'ส', 'โก', 'ล', '115']\n"
     ]
    }
   ],
   "source": [
    "text = \"ไฮยีนปรับเข้มข้นไลฟ์ มิราเคิลโรสโกล115\"\n",
    "print(\"sent_tokenize:\", sent_tokenize(text))\n",
    "print(\"word_tokenize:\", word_tokenize(text))\n",
    "print(\"no whitespace:\", word_tokenize(text, keep_whitespace=False))"
   ]
  },
  {
   "cell_type": "code",
   "execution_count": 5,
   "metadata": {},
   "outputs": [
    {
     "name": "stdout",
     "output_type": "stream",
     "text": [
      "custom : ['ไฮ', 'ยีน', 'ปรับ', 'เข้มข้น', 'ไลฟ์', ' ', 'มิราเคิล', 'โร', 'ส', 'โก', 'ล', '115']\n"
     ]
    }
   ],
   "source": [
    "#words = MY_CUSTOM_WORDS\n",
    "words = []\n",
    "custom_words_list = set(thai_words())\n",
    "## add multiple words\n",
    "custom_words_list.update(words)\n",
    "\n",
    "## add word\n",
    "# custom_words_list.add('เป็งปุ๊ด')\n",
    "# custom_words_list.add('เพ็ญพุธ')\n",
    "trie = dict_trie(dict_source=custom_words_list)\n",
    "\n",
    "custom_tokenizer = Tokenizer(custom_dict=trie, engine='newmm')\n",
    "\n",
    "print(\"custom :\", custom_tokenizer.word_tokenize(text))"
   ]
  },
  {
   "cell_type": "code",
   "execution_count": 6,
   "metadata": {},
   "outputs": [
    {
     "data": {
      "text/plain": [
       "['(', '-', '_', '', ' ', ')']"
      ]
     },
     "execution_count": 6,
     "metadata": {},
     "output_type": "execute_result"
    }
   ],
   "source": [
    "stopwords = []\n",
    "stopwords.append(\"(\")\n",
    "stopwords.append(\"-\")\n",
    "stopwords.append(\"_\")\n",
    "stopwords.append(\"\")\n",
    "stopwords.append(\" \")\n",
    "stopwords.append(\")\")\n",
    "\n",
    "stopwords"
   ]
  },
  {
   "cell_type": "code",
   "execution_count": 7,
   "metadata": {},
   "outputs": [],
   "source": [
    "train = df.copy()"
   ]
  },
  {
   "cell_type": "code",
   "execution_count": 8,
   "metadata": {},
   "outputs": [
    {
     "data": {
      "text/html": [
       "<div>\n",
       "<style scoped>\n",
       "    .dataframe tbody tr th:only-of-type {\n",
       "        vertical-align: middle;\n",
       "    }\n",
       "\n",
       "    .dataframe tbody tr th {\n",
       "        vertical-align: top;\n",
       "    }\n",
       "\n",
       "    .dataframe thead th {\n",
       "        text-align: right;\n",
       "    }\n",
       "</style>\n",
       "<table border=\"1\" class=\"dataframe\">\n",
       "  <thead>\n",
       "    <tr style=\"text-align: right;\">\n",
       "      <th></th>\n",
       "      <th>ProductCode</th>\n",
       "      <th>ProductName</th>\n",
       "      <th>Qty</th>\n",
       "      <th>Pack</th>\n",
       "      <th>Weight</th>\n",
       "    </tr>\n",
       "  </thead>\n",
       "  <tbody>\n",
       "    <tr>\n",
       "      <th>0</th>\n",
       "      <td>1101155228</td>\n",
       "      <td>วิกซอล โกลด์ 900 (2+1)</td>\n",
       "      <td>12</td>\n",
       "      <td>1</td>\n",
       "      <td>12.5</td>\n",
       "    </tr>\n",
       "    <tr>\n",
       "      <th>1</th>\n",
       "      <td>1102043121</td>\n",
       "      <td>วิกซอล ออกซี่ มิ้นท์ 700 มล. 3S</td>\n",
       "      <td>12</td>\n",
       "      <td>1</td>\n",
       "      <td>9.8</td>\n",
       "    </tr>\n",
       "    <tr>\n",
       "      <th>2</th>\n",
       "      <td>1201033318</td>\n",
       "      <td>วิช-ถูพื้น ทรีดี ชมพู 650 ซอง</td>\n",
       "      <td>12</td>\n",
       "      <td>1</td>\n",
       "      <td>8.5</td>\n",
       "    </tr>\n",
       "    <tr>\n",
       "      <th>3</th>\n",
       "      <td>1201053312</td>\n",
       "      <td>วิช-ถูพื้น ทรีดี ฟ้า 650 ซอง</td>\n",
       "      <td>12</td>\n",
       "      <td>1</td>\n",
       "      <td>8.5</td>\n",
       "    </tr>\n",
       "    <tr>\n",
       "      <th>4</th>\n",
       "      <td>1201133155</td>\n",
       "      <td>วิช-ถูพื้น เนเจอร์ ชมพู 5200</td>\n",
       "      <td>4</td>\n",
       "      <td>1</td>\n",
       "      <td>21.9</td>\n",
       "    </tr>\n",
       "  </tbody>\n",
       "</table>\n",
       "</div>"
      ],
      "text/plain": [
       "   ProductCode                      ProductName  Qty  Pack  Weight\n",
       "0   1101155228           วิกซอล โกลด์ 900 (2+1)   12     1    12.5\n",
       "1   1102043121  วิกซอล ออกซี่ มิ้นท์ 700 มล. 3S   12     1     9.8\n",
       "2   1201033318    วิช-ถูพื้น ทรีดี ชมพู 650 ซอง   12     1     8.5\n",
       "3   1201053312     วิช-ถูพื้น ทรีดี ฟ้า 650 ซอง   12     1     8.5\n",
       "4   1201133155     วิช-ถูพื้น เนเจอร์ ชมพู 5200    4     1    21.9"
      ]
     },
     "execution_count": 8,
     "metadata": {},
     "output_type": "execute_result"
    }
   ],
   "source": [
    "train.head()"
   ]
  },
  {
   "cell_type": "code",
   "execution_count": 9,
   "metadata": {},
   "outputs": [],
   "source": [
    "# Normalize text\n",
    "train['ProductName_clean1'] = train.apply(lambda row: normalize(row['ProductName']), axis=1)\n",
    " \n",
    "# Word segmentation: it will take a while....\n",
    "train['ProductName_clean2'] = train.apply(lambda row: custom_tokenizer.word_tokenize(row['ProductName_clean1']), axis=1)\n",
    " \n",
    "# Remove stopwords, it will take a very long time.....\n",
    "train['ProductName_clean3'] = train.apply(lambda row: \" \".join([i for i in row['ProductName_clean2'] if i not in stopwords]), axis=1)\n",
    " \n",
    "# Removing the 'TutorialsPoint' from the list using the remove() method\n",
    "def remove_stopwords(input_list, stopwords=stopwords):\n",
    "    return [word for word in input_list if word not in stopwords]\n",
    "\n",
    "train['ProductName_clean4'] = train.apply(lambda row: [word for word in row['ProductName_clean2'] if word not in stopwords], axis=1)\n"
   ]
  },
  {
   "cell_type": "code",
   "execution_count": 10,
   "metadata": {},
   "outputs": [
    {
     "data": {
      "text/html": [
       "<div>\n",
       "<style scoped>\n",
       "    .dataframe tbody tr th:only-of-type {\n",
       "        vertical-align: middle;\n",
       "    }\n",
       "\n",
       "    .dataframe tbody tr th {\n",
       "        vertical-align: top;\n",
       "    }\n",
       "\n",
       "    .dataframe thead th {\n",
       "        text-align: right;\n",
       "    }\n",
       "</style>\n",
       "<table border=\"1\" class=\"dataframe\">\n",
       "  <thead>\n",
       "    <tr style=\"text-align: right;\">\n",
       "      <th></th>\n",
       "      <th>ProductCode</th>\n",
       "      <th>ProductName</th>\n",
       "      <th>Qty</th>\n",
       "      <th>Pack</th>\n",
       "      <th>Weight</th>\n",
       "      <th>ProductName_clean1</th>\n",
       "      <th>ProductName_clean2</th>\n",
       "      <th>ProductName_clean3</th>\n",
       "      <th>ProductName_clean4</th>\n",
       "    </tr>\n",
       "  </thead>\n",
       "  <tbody>\n",
       "    <tr>\n",
       "      <th>0</th>\n",
       "      <td>1101155228</td>\n",
       "      <td>วิกซอล โกลด์ 900 (2+1)</td>\n",
       "      <td>12</td>\n",
       "      <td>1</td>\n",
       "      <td>12.5</td>\n",
       "      <td>วิกซอล โกลด์ 900 (2+1)</td>\n",
       "      <td>[วิก, ซอล,  , โกลด์,  , 900,  , (2+1)]</td>\n",
       "      <td>วิก ซอล โกลด์ 900 (2+1)</td>\n",
       "      <td>[วิก, ซอล, โกลด์, 900, (2+1)]</td>\n",
       "    </tr>\n",
       "    <tr>\n",
       "      <th>1</th>\n",
       "      <td>1102043121</td>\n",
       "      <td>วิกซอล ออกซี่ มิ้นท์ 700 มล. 3S</td>\n",
       "      <td>12</td>\n",
       "      <td>1</td>\n",
       "      <td>9.8</td>\n",
       "      <td>วิกซอล ออกซี่ มิ้นท์ 700 มล. 3S</td>\n",
       "      <td>[วิก, ซอล,  , ออก, ซี่,  , มิ้นท์,  , 700,  , ...</td>\n",
       "      <td>วิก ซอล ออก ซี่ มิ้นท์ 700 มล. 3 S</td>\n",
       "      <td>[วิก, ซอล, ออก, ซี่, มิ้นท์, 700, มล., 3, S]</td>\n",
       "    </tr>\n",
       "    <tr>\n",
       "      <th>2</th>\n",
       "      <td>1201033318</td>\n",
       "      <td>วิช-ถูพื้น ทรีดี ชมพู 650 ซอง</td>\n",
       "      <td>12</td>\n",
       "      <td>1</td>\n",
       "      <td>8.5</td>\n",
       "      <td>วิช-ถูพื้น ทรีดี ชมพู 650 ซอง</td>\n",
       "      <td>[วิ, ช, -, ถู, พื้น,  , ท, รี, ดี,  , ชมพู,  ,...</td>\n",
       "      <td>วิ ช ถู พื้น ท รี ดี ชมพู 650 ซอง</td>\n",
       "      <td>[วิ, ช, ถู, พื้น, ท, รี, ดี, ชมพู, 650, ซอง]</td>\n",
       "    </tr>\n",
       "    <tr>\n",
       "      <th>3</th>\n",
       "      <td>1201053312</td>\n",
       "      <td>วิช-ถูพื้น ทรีดี ฟ้า 650 ซอง</td>\n",
       "      <td>12</td>\n",
       "      <td>1</td>\n",
       "      <td>8.5</td>\n",
       "      <td>วิช-ถูพื้น ทรีดี ฟ้า 650 ซอง</td>\n",
       "      <td>[วิ, ช, -, ถู, พื้น,  , ท, รี, ดี,  , ฟ้า,  , ...</td>\n",
       "      <td>วิ ช ถู พื้น ท รี ดี ฟ้า 650 ซอง</td>\n",
       "      <td>[วิ, ช, ถู, พื้น, ท, รี, ดี, ฟ้า, 650, ซอง]</td>\n",
       "    </tr>\n",
       "    <tr>\n",
       "      <th>4</th>\n",
       "      <td>1201133155</td>\n",
       "      <td>วิช-ถูพื้น เนเจอร์ ชมพู 5200</td>\n",
       "      <td>4</td>\n",
       "      <td>1</td>\n",
       "      <td>21.9</td>\n",
       "      <td>วิช-ถูพื้น เนเจอร์ ชมพู 5200</td>\n",
       "      <td>[วิ, ช, -, ถู, พื้น,  , เนเจอร์,  , ชมพู,  , 5...</td>\n",
       "      <td>วิ ช ถู พื้น เนเจอร์ ชมพู 5200</td>\n",
       "      <td>[วิ, ช, ถู, พื้น, เนเจอร์, ชมพู, 5200]</td>\n",
       "    </tr>\n",
       "  </tbody>\n",
       "</table>\n",
       "</div>"
      ],
      "text/plain": [
       "   ProductCode                      ProductName  Qty  Pack  Weight  \\\n",
       "0   1101155228           วิกซอล โกลด์ 900 (2+1)   12     1    12.5   \n",
       "1   1102043121  วิกซอล ออกซี่ มิ้นท์ 700 มล. 3S   12     1     9.8   \n",
       "2   1201033318    วิช-ถูพื้น ทรีดี ชมพู 650 ซอง   12     1     8.5   \n",
       "3   1201053312     วิช-ถูพื้น ทรีดี ฟ้า 650 ซอง   12     1     8.5   \n",
       "4   1201133155     วิช-ถูพื้น เนเจอร์ ชมพู 5200    4     1    21.9   \n",
       "\n",
       "                ProductName_clean1  \\\n",
       "0           วิกซอล โกลด์ 900 (2+1)   \n",
       "1  วิกซอล ออกซี่ มิ้นท์ 700 มล. 3S   \n",
       "2    วิช-ถูพื้น ทรีดี ชมพู 650 ซอง   \n",
       "3     วิช-ถูพื้น ทรีดี ฟ้า 650 ซอง   \n",
       "4     วิช-ถูพื้น เนเจอร์ ชมพู 5200   \n",
       "\n",
       "                                  ProductName_clean2  \\\n",
       "0             [วิก, ซอล,  , โกลด์,  , 900,  , (2+1)]   \n",
       "1  [วิก, ซอล,  , ออก, ซี่,  , มิ้นท์,  , 700,  , ...   \n",
       "2  [วิ, ช, -, ถู, พื้น,  , ท, รี, ดี,  , ชมพู,  ,...   \n",
       "3  [วิ, ช, -, ถู, พื้น,  , ท, รี, ดี,  , ฟ้า,  , ...   \n",
       "4  [วิ, ช, -, ถู, พื้น,  , เนเจอร์,  , ชมพู,  , 5...   \n",
       "\n",
       "                   ProductName_clean3  \\\n",
       "0             วิก ซอล โกลด์ 900 (2+1)   \n",
       "1  วิก ซอล ออก ซี่ มิ้นท์ 700 มล. 3 S   \n",
       "2   วิ ช ถู พื้น ท รี ดี ชมพู 650 ซอง   \n",
       "3    วิ ช ถู พื้น ท รี ดี ฟ้า 650 ซอง   \n",
       "4      วิ ช ถู พื้น เนเจอร์ ชมพู 5200   \n",
       "\n",
       "                             ProductName_clean4  \n",
       "0                 [วิก, ซอล, โกลด์, 900, (2+1)]  \n",
       "1  [วิก, ซอล, ออก, ซี่, มิ้นท์, 700, มล., 3, S]  \n",
       "2  [วิ, ช, ถู, พื้น, ท, รี, ดี, ชมพู, 650, ซอง]  \n",
       "3   [วิ, ช, ถู, พื้น, ท, รี, ดี, ฟ้า, 650, ซอง]  \n",
       "4        [วิ, ช, ถู, พื้น, เนเจอร์, ชมพู, 5200]  "
      ]
     },
     "execution_count": 10,
     "metadata": {},
     "output_type": "execute_result"
    }
   ],
   "source": [
    "train.head()"
   ]
  },
  {
   "cell_type": "code",
   "execution_count": 11,
   "metadata": {},
   "outputs": [],
   "source": [
    "train.to_excel(\"input/tokenized_data2.xlsx\", index=False)"
   ]
  }
 ],
 "metadata": {
  "kernelspec": {
   "display_name": "Python 3",
   "language": "python",
   "name": "python3"
  },
  "language_info": {
   "codemirror_mode": {
    "name": "ipython",
    "version": 3
   },
   "file_extension": ".py",
   "mimetype": "text/x-python",
   "name": "python",
   "nbconvert_exporter": "python",
   "pygments_lexer": "ipython3",
   "version": "3.11.5"
  }
 },
 "nbformat": 4,
 "nbformat_minor": 2
}
